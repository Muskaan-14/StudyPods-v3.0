{
 "cells": [
  {
   "cell_type": "code",
   "execution_count": 1,
   "id": "091428d4",
   "metadata": {},
   "outputs": [],
   "source": [
    "import numpy as np\n",
    "import pandas as pd\n",
    "import matplotlib.pyplot as plt\n",
    "\n"
   ]
  },
  {
   "cell_type": "code",
   "execution_count": null,
   "id": "45f684e3",
   "metadata": {},
   "outputs": [],
   "source": []
  },
  {
   "cell_type": "code",
   "execution_count": 2,
   "id": "0eeb8874",
   "metadata": {},
   "outputs": [],
   "source": [
    "import tensorflow as tf\n",
    "from tensorflow import keras\n",
    "from sklearn.model_selection import train_test_split"
   ]
  },
  {
   "cell_type": "code",
   "execution_count": 3,
   "id": "6d592ca5",
   "metadata": {},
   "outputs": [],
   "source": [
    "train =pd.read_csv(\"D:\\mnist\\mnist_train.csv\")\n",
    "test=pd.read_csv(\"D:\\mnist\\mnist_test.csv\")"
   ]
  },
  {
   "cell_type": "code",
   "execution_count": 4,
   "id": "3b4fd38e",
   "metadata": {},
   "outputs": [
    {
     "data": {
      "text/plain": [
       "(60000, 785)"
      ]
     },
     "execution_count": 4,
     "metadata": {},
     "output_type": "execute_result"
    }
   ],
   "source": [
    "train.shape"
   ]
  },
  {
   "cell_type": "code",
   "execution_count": 5,
   "id": "783c5185",
   "metadata": {},
   "outputs": [
    {
     "data": {
      "text/plain": [
       "Index(['label', '1x1', '1x2', '1x3', '1x4', '1x5', '1x6', '1x7', '1x8', '1x9',\n",
       "       ...\n",
       "       '28x19', '28x20', '28x21', '28x22', '28x23', '28x24', '28x25', '28x26',\n",
       "       '28x27', '28x28'],\n",
       "      dtype='object', length=785)"
      ]
     },
     "execution_count": 5,
     "metadata": {},
     "output_type": "execute_result"
    }
   ],
   "source": [
    "train.columns"
   ]
  },
  {
   "cell_type": "code",
   "execution_count": 6,
   "id": "3796f0d9",
   "metadata": {},
   "outputs": [
    {
     "data": {
      "text/html": [
       "<div>\n",
       "<style scoped>\n",
       "    .dataframe tbody tr th:only-of-type {\n",
       "        vertical-align: middle;\n",
       "    }\n",
       "\n",
       "    .dataframe tbody tr th {\n",
       "        vertical-align: top;\n",
       "    }\n",
       "\n",
       "    .dataframe thead th {\n",
       "        text-align: right;\n",
       "    }\n",
       "</style>\n",
       "<table border=\"1\" class=\"dataframe\">\n",
       "  <thead>\n",
       "    <tr style=\"text-align: right;\">\n",
       "      <th></th>\n",
       "      <th>label</th>\n",
       "      <th>1x1</th>\n",
       "      <th>1x2</th>\n",
       "      <th>1x3</th>\n",
       "      <th>1x4</th>\n",
       "      <th>1x5</th>\n",
       "      <th>1x6</th>\n",
       "      <th>1x7</th>\n",
       "      <th>1x8</th>\n",
       "      <th>1x9</th>\n",
       "      <th>...</th>\n",
       "      <th>28x19</th>\n",
       "      <th>28x20</th>\n",
       "      <th>28x21</th>\n",
       "      <th>28x22</th>\n",
       "      <th>28x23</th>\n",
       "      <th>28x24</th>\n",
       "      <th>28x25</th>\n",
       "      <th>28x26</th>\n",
       "      <th>28x27</th>\n",
       "      <th>28x28</th>\n",
       "    </tr>\n",
       "  </thead>\n",
       "  <tbody>\n",
       "    <tr>\n",
       "      <th>0</th>\n",
       "      <td>5</td>\n",
       "      <td>0</td>\n",
       "      <td>0</td>\n",
       "      <td>0</td>\n",
       "      <td>0</td>\n",
       "      <td>0</td>\n",
       "      <td>0</td>\n",
       "      <td>0</td>\n",
       "      <td>0</td>\n",
       "      <td>0</td>\n",
       "      <td>...</td>\n",
       "      <td>0</td>\n",
       "      <td>0</td>\n",
       "      <td>0</td>\n",
       "      <td>0</td>\n",
       "      <td>0</td>\n",
       "      <td>0</td>\n",
       "      <td>0</td>\n",
       "      <td>0</td>\n",
       "      <td>0</td>\n",
       "      <td>0</td>\n",
       "    </tr>\n",
       "    <tr>\n",
       "      <th>1</th>\n",
       "      <td>0</td>\n",
       "      <td>0</td>\n",
       "      <td>0</td>\n",
       "      <td>0</td>\n",
       "      <td>0</td>\n",
       "      <td>0</td>\n",
       "      <td>0</td>\n",
       "      <td>0</td>\n",
       "      <td>0</td>\n",
       "      <td>0</td>\n",
       "      <td>...</td>\n",
       "      <td>0</td>\n",
       "      <td>0</td>\n",
       "      <td>0</td>\n",
       "      <td>0</td>\n",
       "      <td>0</td>\n",
       "      <td>0</td>\n",
       "      <td>0</td>\n",
       "      <td>0</td>\n",
       "      <td>0</td>\n",
       "      <td>0</td>\n",
       "    </tr>\n",
       "    <tr>\n",
       "      <th>2</th>\n",
       "      <td>4</td>\n",
       "      <td>0</td>\n",
       "      <td>0</td>\n",
       "      <td>0</td>\n",
       "      <td>0</td>\n",
       "      <td>0</td>\n",
       "      <td>0</td>\n",
       "      <td>0</td>\n",
       "      <td>0</td>\n",
       "      <td>0</td>\n",
       "      <td>...</td>\n",
       "      <td>0</td>\n",
       "      <td>0</td>\n",
       "      <td>0</td>\n",
       "      <td>0</td>\n",
       "      <td>0</td>\n",
       "      <td>0</td>\n",
       "      <td>0</td>\n",
       "      <td>0</td>\n",
       "      <td>0</td>\n",
       "      <td>0</td>\n",
       "    </tr>\n",
       "    <tr>\n",
       "      <th>3</th>\n",
       "      <td>1</td>\n",
       "      <td>0</td>\n",
       "      <td>0</td>\n",
       "      <td>0</td>\n",
       "      <td>0</td>\n",
       "      <td>0</td>\n",
       "      <td>0</td>\n",
       "      <td>0</td>\n",
       "      <td>0</td>\n",
       "      <td>0</td>\n",
       "      <td>...</td>\n",
       "      <td>0</td>\n",
       "      <td>0</td>\n",
       "      <td>0</td>\n",
       "      <td>0</td>\n",
       "      <td>0</td>\n",
       "      <td>0</td>\n",
       "      <td>0</td>\n",
       "      <td>0</td>\n",
       "      <td>0</td>\n",
       "      <td>0</td>\n",
       "    </tr>\n",
       "    <tr>\n",
       "      <th>4</th>\n",
       "      <td>9</td>\n",
       "      <td>0</td>\n",
       "      <td>0</td>\n",
       "      <td>0</td>\n",
       "      <td>0</td>\n",
       "      <td>0</td>\n",
       "      <td>0</td>\n",
       "      <td>0</td>\n",
       "      <td>0</td>\n",
       "      <td>0</td>\n",
       "      <td>...</td>\n",
       "      <td>0</td>\n",
       "      <td>0</td>\n",
       "      <td>0</td>\n",
       "      <td>0</td>\n",
       "      <td>0</td>\n",
       "      <td>0</td>\n",
       "      <td>0</td>\n",
       "      <td>0</td>\n",
       "      <td>0</td>\n",
       "      <td>0</td>\n",
       "    </tr>\n",
       "    <tr>\n",
       "      <th>5</th>\n",
       "      <td>2</td>\n",
       "      <td>0</td>\n",
       "      <td>0</td>\n",
       "      <td>0</td>\n",
       "      <td>0</td>\n",
       "      <td>0</td>\n",
       "      <td>0</td>\n",
       "      <td>0</td>\n",
       "      <td>0</td>\n",
       "      <td>0</td>\n",
       "      <td>...</td>\n",
       "      <td>0</td>\n",
       "      <td>0</td>\n",
       "      <td>0</td>\n",
       "      <td>0</td>\n",
       "      <td>0</td>\n",
       "      <td>0</td>\n",
       "      <td>0</td>\n",
       "      <td>0</td>\n",
       "      <td>0</td>\n",
       "      <td>0</td>\n",
       "    </tr>\n",
       "    <tr>\n",
       "      <th>6</th>\n",
       "      <td>1</td>\n",
       "      <td>0</td>\n",
       "      <td>0</td>\n",
       "      <td>0</td>\n",
       "      <td>0</td>\n",
       "      <td>0</td>\n",
       "      <td>0</td>\n",
       "      <td>0</td>\n",
       "      <td>0</td>\n",
       "      <td>0</td>\n",
       "      <td>...</td>\n",
       "      <td>0</td>\n",
       "      <td>0</td>\n",
       "      <td>0</td>\n",
       "      <td>0</td>\n",
       "      <td>0</td>\n",
       "      <td>0</td>\n",
       "      <td>0</td>\n",
       "      <td>0</td>\n",
       "      <td>0</td>\n",
       "      <td>0</td>\n",
       "    </tr>\n",
       "    <tr>\n",
       "      <th>7</th>\n",
       "      <td>3</td>\n",
       "      <td>0</td>\n",
       "      <td>0</td>\n",
       "      <td>0</td>\n",
       "      <td>0</td>\n",
       "      <td>0</td>\n",
       "      <td>0</td>\n",
       "      <td>0</td>\n",
       "      <td>0</td>\n",
       "      <td>0</td>\n",
       "      <td>...</td>\n",
       "      <td>0</td>\n",
       "      <td>0</td>\n",
       "      <td>0</td>\n",
       "      <td>0</td>\n",
       "      <td>0</td>\n",
       "      <td>0</td>\n",
       "      <td>0</td>\n",
       "      <td>0</td>\n",
       "      <td>0</td>\n",
       "      <td>0</td>\n",
       "    </tr>\n",
       "    <tr>\n",
       "      <th>8</th>\n",
       "      <td>1</td>\n",
       "      <td>0</td>\n",
       "      <td>0</td>\n",
       "      <td>0</td>\n",
       "      <td>0</td>\n",
       "      <td>0</td>\n",
       "      <td>0</td>\n",
       "      <td>0</td>\n",
       "      <td>0</td>\n",
       "      <td>0</td>\n",
       "      <td>...</td>\n",
       "      <td>0</td>\n",
       "      <td>0</td>\n",
       "      <td>0</td>\n",
       "      <td>0</td>\n",
       "      <td>0</td>\n",
       "      <td>0</td>\n",
       "      <td>0</td>\n",
       "      <td>0</td>\n",
       "      <td>0</td>\n",
       "      <td>0</td>\n",
       "    </tr>\n",
       "    <tr>\n",
       "      <th>9</th>\n",
       "      <td>4</td>\n",
       "      <td>0</td>\n",
       "      <td>0</td>\n",
       "      <td>0</td>\n",
       "      <td>0</td>\n",
       "      <td>0</td>\n",
       "      <td>0</td>\n",
       "      <td>0</td>\n",
       "      <td>0</td>\n",
       "      <td>0</td>\n",
       "      <td>...</td>\n",
       "      <td>0</td>\n",
       "      <td>0</td>\n",
       "      <td>0</td>\n",
       "      <td>0</td>\n",
       "      <td>0</td>\n",
       "      <td>0</td>\n",
       "      <td>0</td>\n",
       "      <td>0</td>\n",
       "      <td>0</td>\n",
       "      <td>0</td>\n",
       "    </tr>\n",
       "  </tbody>\n",
       "</table>\n",
       "<p>10 rows × 785 columns</p>\n",
       "</div>"
      ],
      "text/plain": [
       "   label  1x1  1x2  1x3  1x4  1x5  1x6  1x7  1x8  1x9  ...  28x19  28x20  \\\n",
       "0      5    0    0    0    0    0    0    0    0    0  ...      0      0   \n",
       "1      0    0    0    0    0    0    0    0    0    0  ...      0      0   \n",
       "2      4    0    0    0    0    0    0    0    0    0  ...      0      0   \n",
       "3      1    0    0    0    0    0    0    0    0    0  ...      0      0   \n",
       "4      9    0    0    0    0    0    0    0    0    0  ...      0      0   \n",
       "5      2    0    0    0    0    0    0    0    0    0  ...      0      0   \n",
       "6      1    0    0    0    0    0    0    0    0    0  ...      0      0   \n",
       "7      3    0    0    0    0    0    0    0    0    0  ...      0      0   \n",
       "8      1    0    0    0    0    0    0    0    0    0  ...      0      0   \n",
       "9      4    0    0    0    0    0    0    0    0    0  ...      0      0   \n",
       "\n",
       "   28x21  28x22  28x23  28x24  28x25  28x26  28x27  28x28  \n",
       "0      0      0      0      0      0      0      0      0  \n",
       "1      0      0      0      0      0      0      0      0  \n",
       "2      0      0      0      0      0      0      0      0  \n",
       "3      0      0      0      0      0      0      0      0  \n",
       "4      0      0      0      0      0      0      0      0  \n",
       "5      0      0      0      0      0      0      0      0  \n",
       "6      0      0      0      0      0      0      0      0  \n",
       "7      0      0      0      0      0      0      0      0  \n",
       "8      0      0      0      0      0      0      0      0  \n",
       "9      0      0      0      0      0      0      0      0  \n",
       "\n",
       "[10 rows x 785 columns]"
      ]
     },
     "execution_count": 6,
     "metadata": {},
     "output_type": "execute_result"
    }
   ],
   "source": [
    "train.head(10)"
   ]
  },
  {
   "cell_type": "raw",
   "id": "47b132fc",
   "metadata": {},
   "source": []
  },
  {
   "cell_type": "code",
   "execution_count": 7,
   "id": "dc1d8506",
   "metadata": {},
   "outputs": [],
   "source": [
    "train_Y=train.iloc[:,0]\n",
    "train_X=train.drop(['label'],axis=1)\n",
    "\n",
    "test_Y=test.iloc[:,0]\n",
    "test_X=test.drop(['label'],axis=1)"
   ]
  },
  {
   "cell_type": "code",
   "execution_count": 8,
   "id": "03f91867",
   "metadata": {},
   "outputs": [
    {
     "data": {
      "text/plain": [
       "(60000, 784)"
      ]
     },
     "execution_count": 8,
     "metadata": {},
     "output_type": "execute_result"
    }
   ],
   "source": [
    "train_X.shape"
   ]
  },
  {
   "cell_type": "code",
   "execution_count": 9,
   "id": "40098296",
   "metadata": {},
   "outputs": [
    {
     "data": {
      "image/png": "[encoded data removed]",
      "text/plain": [
       "<Figure size 700x500 with 9 Axes>"
      ]
     },
     "metadata": {},
     "output_type": "display_data"
    }
   ],
   "source": [
    "plt.rcParams[\"figure.figsize\"] = [7,5]\n",
    "plt.rcParams[\"figure.autolayout\"] = True\n",
    "for i in range (9):\n",
    "    plt.subplot(3,3,i+1)\n",
    "    digit = train_X.iloc[i, 0:]\n",
    "    digit = digit.values.reshape(28,28)\n",
    "    plt.imshow(digit, cmap='gray')\n",
    "    "
   ]
  },
  {
   "cell_type": "code",
   "execution_count": 10,
   "id": "fe89f577",
   "metadata": {},
   "outputs": [
    {
     "name": "stdout",
     "output_type": "stream",
     "text": [
      "5\n",
      "0\n",
      "4\n",
      "1\n",
      "9\n",
      "2\n",
      "1\n",
      "3\n",
      "1\n"
     ]
    }
   ],
   "source": [
    "for i in range (9):\n",
    "    print(train_Y[i])"
   ]
  },
  {
   "cell_type": "code",
   "execution_count": 11,
   "id": "dc45360a",
   "metadata": {},
   "outputs": [
    {
     "data": {
      "text/html": [
       "<div>\n",
       "<style scoped>\n",
       "    .dataframe tbody tr th:only-of-type {\n",
       "        vertical-align: middle;\n",
       "    }\n",
       "\n",
       "    .dataframe tbody tr th {\n",
       "        vertical-align: top;\n",
       "    }\n",
       "\n",
       "    .dataframe thead th {\n",
       "        text-align: right;\n",
       "    }\n",
       "</style>\n",
       "<table border=\"1\" class=\"dataframe\">\n",
       "  <thead>\n",
       "    <tr style=\"text-align: right;\">\n",
       "      <th></th>\n",
       "      <th>label</th>\n",
       "      <th>1x1</th>\n",
       "      <th>1x2</th>\n",
       "      <th>1x3</th>\n",
       "      <th>1x4</th>\n",
       "      <th>1x5</th>\n",
       "      <th>1x6</th>\n",
       "      <th>1x7</th>\n",
       "      <th>1x8</th>\n",
       "      <th>1x9</th>\n",
       "      <th>...</th>\n",
       "      <th>28x19</th>\n",
       "      <th>28x20</th>\n",
       "      <th>28x21</th>\n",
       "      <th>28x22</th>\n",
       "      <th>28x23</th>\n",
       "      <th>28x24</th>\n",
       "      <th>28x25</th>\n",
       "      <th>28x26</th>\n",
       "      <th>28x27</th>\n",
       "      <th>28x28</th>\n",
       "    </tr>\n",
       "  </thead>\n",
       "  <tbody>\n",
       "    <tr>\n",
       "      <th>0</th>\n",
       "      <td>5</td>\n",
       "      <td>0</td>\n",
       "      <td>0</td>\n",
       "      <td>0</td>\n",
       "      <td>0</td>\n",
       "      <td>0</td>\n",
       "      <td>0</td>\n",
       "      <td>0</td>\n",
       "      <td>0</td>\n",
       "      <td>0</td>\n",
       "      <td>...</td>\n",
       "      <td>0</td>\n",
       "      <td>0</td>\n",
       "      <td>0</td>\n",
       "      <td>0</td>\n",
       "      <td>0</td>\n",
       "      <td>0</td>\n",
       "      <td>0</td>\n",
       "      <td>0</td>\n",
       "      <td>0</td>\n",
       "      <td>0</td>\n",
       "    </tr>\n",
       "    <tr>\n",
       "      <th>1</th>\n",
       "      <td>0</td>\n",
       "      <td>0</td>\n",
       "      <td>0</td>\n",
       "      <td>0</td>\n",
       "      <td>0</td>\n",
       "      <td>0</td>\n",
       "      <td>0</td>\n",
       "      <td>0</td>\n",
       "      <td>0</td>\n",
       "      <td>0</td>\n",
       "      <td>...</td>\n",
       "      <td>0</td>\n",
       "      <td>0</td>\n",
       "      <td>0</td>\n",
       "      <td>0</td>\n",
       "      <td>0</td>\n",
       "      <td>0</td>\n",
       "      <td>0</td>\n",
       "      <td>0</td>\n",
       "      <td>0</td>\n",
       "      <td>0</td>\n",
       "    </tr>\n",
       "    <tr>\n",
       "      <th>2</th>\n",
       "      <td>4</td>\n",
       "      <td>0</td>\n",
       "      <td>0</td>\n",
       "      <td>0</td>\n",
       "      <td>0</td>\n",
       "      <td>0</td>\n",
       "      <td>0</td>\n",
       "      <td>0</td>\n",
       "      <td>0</td>\n",
       "      <td>0</td>\n",
       "      <td>...</td>\n",
       "      <td>0</td>\n",
       "      <td>0</td>\n",
       "      <td>0</td>\n",
       "      <td>0</td>\n",
       "      <td>0</td>\n",
       "      <td>0</td>\n",
       "      <td>0</td>\n",
       "      <td>0</td>\n",
       "      <td>0</td>\n",
       "      <td>0</td>\n",
       "    </tr>\n",
       "    <tr>\n",
       "      <th>3</th>\n",
       "      <td>1</td>\n",
       "      <td>0</td>\n",
       "      <td>0</td>\n",
       "      <td>0</td>\n",
       "      <td>0</td>\n",
       "      <td>0</td>\n",
       "      <td>0</td>\n",
       "      <td>0</td>\n",
       "      <td>0</td>\n",
       "      <td>0</td>\n",
       "      <td>...</td>\n",
       "      <td>0</td>\n",
       "      <td>0</td>\n",
       "      <td>0</td>\n",
       "      <td>0</td>\n",
       "      <td>0</td>\n",
       "      <td>0</td>\n",
       "      <td>0</td>\n",
       "      <td>0</td>\n",
       "      <td>0</td>\n",
       "      <td>0</td>\n",
       "    </tr>\n",
       "    <tr>\n",
       "      <th>4</th>\n",
       "      <td>9</td>\n",
       "      <td>0</td>\n",
       "      <td>0</td>\n",
       "      <td>0</td>\n",
       "      <td>0</td>\n",
       "      <td>0</td>\n",
       "      <td>0</td>\n",
       "      <td>0</td>\n",
       "      <td>0</td>\n",
       "      <td>0</td>\n",
       "      <td>...</td>\n",
       "      <td>0</td>\n",
       "      <td>0</td>\n",
       "      <td>0</td>\n",
       "      <td>0</td>\n",
       "      <td>0</td>\n",
       "      <td>0</td>\n",
       "      <td>0</td>\n",
       "      <td>0</td>\n",
       "      <td>0</td>\n",
       "      <td>0</td>\n",
       "    </tr>\n",
       "  </tbody>\n",
       "</table>\n",
       "<p>5 rows × 785 columns</p>\n",
       "</div>"
      ],
      "text/plain": [
       "   label  1x1  1x2  1x3  1x4  1x5  1x6  1x7  1x8  1x9  ...  28x19  28x20  \\\n",
       "0      5    0    0    0    0    0    0    0    0    0  ...      0      0   \n",
       "1      0    0    0    0    0    0    0    0    0    0  ...      0      0   \n",
       "2      4    0    0    0    0    0    0    0    0    0  ...      0      0   \n",
       "3      1    0    0    0    0    0    0    0    0    0  ...      0      0   \n",
       "4      9    0    0    0    0    0    0    0    0    0  ...      0      0   \n",
       "\n",
       "   28x21  28x22  28x23  28x24  28x25  28x26  28x27  28x28  \n",
       "0      0      0      0      0      0      0      0      0  \n",
       "1      0      0      0      0      0      0      0      0  \n",
       "2      0      0      0      0      0      0      0      0  \n",
       "3      0      0      0      0      0      0      0      0  \n",
       "4      0      0      0      0      0      0      0      0  \n",
       "\n",
       "[5 rows x 785 columns]"
      ]
     },
     "execution_count": 11,
     "metadata": {},
     "output_type": "execute_result"
    }
   ],
   "source": [
    "train.head()"
   ]
  },
  {
   "cell_type": "code",
   "execution_count": 12,
   "id": "19b63ee6",
   "metadata": {},
   "outputs": [
    {
     "data": {
      "text/plain": [
       "dtype('int64')"
      ]
     },
     "execution_count": 12,
     "metadata": {},
     "output_type": "execute_result"
    }
   ],
   "source": [
    "train_X.iloc[0].dtype"
   ]
  },
  {
   "cell_type": "code",
   "execution_count": 13,
   "id": "5cebc052",
   "metadata": {},
   "outputs": [
    {
     "name": "stderr",
     "output_type": "stream",
     "text": [
      "C:\\Users\\Taru Arora\\anaconda3\\lib\\site-packages\\seaborn\\_decorators.py:36: FutureWarning: Pass the following variable as a keyword arg: x. From version 0.12, the only valid positional argument will be `data`, and passing other arguments without an explicit keyword will result in an error or misinterpretation.\n",
      "  warnings.warn(\n"
     ]
    },
    {
     "data": {
      "text/plain": [
       "<AxesSubplot:xlabel='label', ylabel='count'>"
      ]
     },
     "execution_count": 13,
     "metadata": {},
     "output_type": "execute_result"
    },
    {
     "data": {
      "image/png": "[encoded data removed]",
      "text/plain": [
       "<Figure size 700x500 with 1 Axes>"
      ]
     },
     "metadata": {},
     "output_type": "display_data"
    }
   ],
   "source": [
    "#displating the count of values\n",
    "import seaborn as sns\n",
    "sns.countplot(train_Y)\n"
   ]
  },
  {
   "cell_type": "code",
   "execution_count": 14,
   "id": "d07e1f76",
   "metadata": {},
   "outputs": [],
   "source": [
    "train_X_2d = train_X.values.reshape(-1, 28, 28)"
   ]
  },
  {
   "cell_type": "code",
   "execution_count": 15,
   "id": "ab89f03c",
   "metadata": {},
   "outputs": [],
   "source": [
    "#displaying digit from train_X\n",
    "\n",
    "def plot_digit(digit, dem = 28, font_size = 12):\n",
    "    max_ax = font_size * dem #size of each pixel(text) * no. of pixels\n",
    "    \n",
    "    fig = plt.figure(figsize=(8,8))\n",
    "    plt.xlim([0, max_ax])\n",
    "    plt.ylim([0, max_ax])\n",
    "    plt.axis('off')\n",
    "    black = '#000000' \n",
    "    \n",
    "    for idx in range(dem):\n",
    "        for jdx in range(dem):\n",
    "\n",
    "            t = plt.text(idx * font_size, max_ax - jdx*font_size, digit[jdx][idx], fontsize = font_size, color = black)#x,y,text\n",
    "            c = digit[jdx][idx] / 255.\n",
    "            t.set_bbox(dict(facecolor=(c,c,c), alpha = 0.5, edgecolor = 'black'))\n",
    "            \n",
    "    plt.show()\n",
    "    \n",
    "#max_Ax-jdx* font size is done because in matplotlib the bottom left corner is set as 0"
   ]
  },
  {
   "cell_type": "code",
   "execution_count": 16,
   "id": "e96e6c19",
   "metadata": {},
   "outputs": [
    {
     "name": "stdout",
     "output_type": "stream",
     "text": [
      "2\n"
     ]
    },
    {
     "data": {
      "image/png": "[encoded data removed]",
      "text/plain": [
       "<Figure size 800x800 with 1 Axes>"
      ]
     },
     "metadata": {},
     "output_type": "display_data"
    }
   ],
   "source": [
    "import random\n",
    "rand_number = random.randint(0, len(train_Y))\n",
    "print(train_Y[rand_number])\n",
    "plot_digit(train_X_2d[rand_number])"
   ]
  },
  {
   "cell_type": "code",
   "execution_count": 17,
   "id": "326be0f1",
   "metadata": {},
   "outputs": [
    {
     "data": {
      "image/png": "[encoded data removed]",
      "text/plain": [
       "<Figure size 200x200 with 1 Axes>"
      ]
     },
     "metadata": {},
     "output_type": "display_data"
    }
   ],
   "source": [
    "import matplotlib.pyplot as plt\n",
    "\n",
    "fig = plt.figure(figsize=(2,2))\n",
    "t = plt.text(0, 0, \"bottom left\",fontsize=5)\n",
    "plt.setp(t, bbox={\"facecolor\": \"red\", \"edgecolor\": \"white\", \"alpha\": 0.5})\n",
    "\n",
    "plt.show()"
   ]
  },
  {
   "cell_type": "code",
   "execution_count": 18,
   "id": "216eaf5b",
   "metadata": {},
   "outputs": [],
   "source": [
    "# Data Normalization [0, 1]\n",
    "train_X = train_X /255\n",
    "test_X = test_X / 255\n"
   ]
  },
  {
   "cell_type": "code",
   "execution_count": 19,
   "id": "3a897b53",
   "metadata": {},
   "outputs": [
    {
     "name": "stdout",
     "output_type": "stream",
     "text": [
      "4\n",
      "[0. 0. 0. 0. 1. 0. 0. 0. 0. 0.]\n"
     ]
    }
   ],
   "source": [
    "# one-hot encoding for target column\n",
    "from tensorflow.keras.utils import to_categorical\n",
    "train_Y_cat = to_categorical(train_Y)\n",
    "print(train_Y[2])\n",
    "print(train_Y_cat[2])"
   ]
  },
  {
   "cell_type": "code",
   "execution_count": 97,
   "id": "46351339",
   "metadata": {},
   "outputs": [
    {
     "data": {
      "text/plain": [
       "((51000, 784), (9000, 784), (51000,), (9000,))"
      ]
     },
     "execution_count": 97,
     "metadata": {},
     "output_type": "execute_result"
    }
   ],
   "source": [
    "X1_train, X1_test, y1_train, y1_test = train_test_split(train_X,train_Y,train_size=0.85,random_state=42)\n",
    "X1_train.shape, X1_test.shape, y1_train.shape, y1_test.shape"
   ]
  },
  {
   "cell_type": "code",
   "execution_count": 98,
   "id": "45c7f4d2",
   "metadata": {},
   "outputs": [
    {
     "name": "stdout",
     "output_type": "stream",
     "text": [
      "Epoch 1/5\n",
      "1594/1594 [==============================] - 3s 2ms/step - loss: 0.4923 - accuracy: 0.8740\n",
      "Epoch 2/5\n",
      "1594/1594 [==============================] - 3s 2ms/step - loss: 0.3122 - accuracy: 0.9138\n",
      "Epoch 3/5\n",
      "1594/1594 [==============================] - 2s 2ms/step - loss: 0.2885 - accuracy: 0.9202\n",
      "Epoch 4/5\n",
      "1594/1594 [==============================] - 2s 1ms/step - loss: 0.2778 - accuracy: 0.9226\n",
      "Epoch 5/5\n",
      "1594/1594 [==============================] - 2s 2ms/step - loss: 0.2698 - accuracy: 0.9247\n"
     ]
    },
    {
     "data": {
      "text/plain": [
       "<keras.callbacks.History at 0x27344ce1310>"
      ]
     },
     "execution_count": 98,
     "metadata": {},
     "output_type": "execute_result"
    }
   ],
   "source": [
    "#with no hidden layers\n",
    "model = keras.Sequential([\n",
    "    keras.layers.Dense(10, input_shape=(784,), activation='softmax') #softmax coz multiclass -> input-> 1d array\n",
    "])\n",
    "\n",
    "\n",
    "model.compile(optimizer='adam',loss='sparse_categorical_crossentropy',metrics=['accuracy'])\n",
    "\n",
    "\n",
    "model.fit(X1_train,y1_train,epochs=5) #cei-< optimizer"
   ]
  },
  {
   "cell_type": "code",
   "execution_count": 99,
   "id": "9f5fa040",
   "metadata": {},
   "outputs": [
    {
     "name": "stdout",
     "output_type": "stream",
     "text": [
      "282/282 [==============================] - 1s 2ms/step - loss: 0.2748 - accuracy: 0.9222\n"
     ]
    }
   ],
   "source": [
    "score=model.evaluate(X1_test,y1_test)"
   ]
  },
  {
   "cell_type": "code",
   "execution_count": null,
   "id": "1556a540",
   "metadata": {},
   "outputs": [],
   "source": [
    "print(type(score))\n",
    "print(len(score))\n",
    "score"
   ]
  },
  {
   "cell_type": "code",
   "execution_count": 28,
   "id": "ca7cf235",
   "metadata": {},
   "outputs": [
    {
     "name": "stdout",
     "output_type": "stream",
     "text": [
      "Test loss: 8.940217643976212%\n",
      "Test score: 97.688889503479%\n",
      "MLP Error: 2.31%\n"
     ]
    }
   ],
   "source": [
    "print('Test loss: {}%'.format(score[0] * 100))\n",
    "print('Test score: {}%'.format(score[1] * 100))\n",
    "\n",
    "print(\"MLP Error: %.2f%%\" % (100 - score[1] * 100))"
   ]
  },
  {
   "cell_type": "code",
   "execution_count": 71,
   "id": "66769dd8",
   "metadata": {},
   "outputs": [
    {
     "name": "stdout",
     "output_type": "stream",
     "text": [
      "Epoch 1/5\n",
      "1594/1594 [==============================] - 13s 8ms/step - loss: 0.2087 - accuracy: 0.9378\n",
      "Epoch 2/5\n",
      "1594/1594 [==============================] - 13s 8ms/step - loss: 0.0921 - accuracy: 0.9712\n",
      "Epoch 3/5\n",
      "1594/1594 [==============================] - 11s 7ms/step - loss: 0.0661 - accuracy: 0.9799\n",
      "Epoch 4/5\n",
      "1594/1594 [==============================] - 12s 7ms/step - loss: 0.0530 - accuracy: 0.9836\n",
      "Epoch 5/5\n",
      "1594/1594 [==============================] - 13s 8ms/step - loss: 0.0405 - accuracy: 0.9870\n"
     ]
    },
    {
     "data": {
      "text/plain": [
       "<keras.callbacks.History at 0x27343c6d6a0>"
      ]
     },
     "execution_count": 71,
     "metadata": {},
     "output_type": "execute_result"
    }
   ],
   "source": [
    "model2 = keras.Sequential([\n",
    "    keras.layers.Dense(512, input_shape=(784,), activation='relu'),\n",
    "    keras.layers.Dense(256,activation='relu'),\n",
    "    keras.layers.Dense(128, activation='relu'),\n",
    "    keras.layers.Dense(10, activation='softmax') #softmax coz multiclass -> input-> 1d array\n",
    "])\n",
    "\n",
    "\n",
    "model2.compile(optimizer='adam',loss='sparse_categorical_crossentropy',metrics=['accuracy'])\n",
    "\n",
    "\n",
    "model2.fit(X1_train,y1_train,epochs=5)"
   ]
  },
  {
   "cell_type": "code",
   "execution_count": 72,
   "id": "649b504c",
   "metadata": {},
   "outputs": [
    {
     "name": "stdout",
     "output_type": "stream",
     "text": [
      "282/282 [==============================] - 1s 3ms/step - loss: 0.1100 - accuracy: 0.9712\n"
     ]
    }
   ],
   "source": [
    "score=model2.evaluate(X1_test,y1_test)"
   ]
  },
  {
   "cell_type": "code",
   "execution_count": 31,
   "id": "2807f84b",
   "metadata": {},
   "outputs": [],
   "source": [
    "#this shows the model might overfight coz of more hidden layers\n"
   ]
  },
  {
   "cell_type": "code",
   "execution_count": 100,
   "id": "38d030f7",
   "metadata": {},
   "outputs": [
    {
     "name": "stdout",
     "output_type": "stream",
     "text": [
      "Epoch 1/6\n",
      "1594/1594 [==============================] - 12s 7ms/step - loss: 0.2077 - accuracy: 0.9387\n",
      "Epoch 2/6\n",
      "1594/1594 [==============================] - 11s 7ms/step - loss: 0.0874 - accuracy: 0.9732\n",
      "Epoch 3/6\n",
      "1594/1594 [==============================] - 11s 7ms/step - loss: 0.0578 - accuracy: 0.9818\n",
      "Epoch 4/6\n",
      "1594/1594 [==============================] - 11s 7ms/step - loss: 0.0443 - accuracy: 0.9855\n",
      "Epoch 5/6\n",
      "1594/1594 [==============================] - 11s 7ms/step - loss: 0.0333 - accuracy: 0.9891\n",
      "Epoch 6/6\n",
      "1594/1594 [==============================] - 11s 7ms/step - loss: 0.0272 - accuracy: 0.9911\n"
     ]
    },
    {
     "data": {
      "text/plain": [
       "<keras.callbacks.History at 0x2732ccc04f0>"
      ]
     },
     "execution_count": 100,
     "metadata": {},
     "output_type": "execute_result"
    }
   ],
   "source": [
    "model3 = keras.Sequential([\n",
    "    keras.layers.Dense(400, input_shape=(784,), activation='relu'),\n",
    "    keras.layers.Dense(128, activation='relu'),\n",
    "    keras.layers.Dense(10, activation='sigmoid') #softmax coz multiclass -> input-> 1d array\n",
    "])\n",
    "\n",
    "\n",
    "model3.compile(optimizer='adam',loss='sparse_categorical_crossentropy',metrics=['accuracy'])\n",
    "\n",
    "\n",
    "model3.fit(X1_train,y1_train,epochs=6)"
   ]
  },
  {
   "cell_type": "code",
   "execution_count": 24,
   "id": "8c412c7d",
   "metadata": {},
   "outputs": [
    {
     "name": "stdout",
     "output_type": "stream",
     "text": [
      "282/282 [==============================] - 1s 3ms/step - loss: 0.0780 - accuracy: 0.9798\n"
     ]
    }
   ],
   "source": [
    "score=model3.evaluate(X1_test,y1_test)"
   ]
  },
  {
   "cell_type": "code",
   "execution_count": null,
   "id": "dff9cc31",
   "metadata": {},
   "outputs": [
    {
     "name": "stdout",
     "output_type": "stream",
     "text": [
      "Epoch 1/30\n",
      "1594/1594 [==============================] - 12s 7ms/step - loss: 0.2272 - accuracy: 0.9353\n",
      "Epoch 2/30\n",
      "1594/1594 [==============================] - 11s 7ms/step - loss: 0.0910 - accuracy: 0.9728\n",
      "Epoch 3/30\n",
      "1594/1594 [==============================] - 11s 7ms/step - loss: 0.0596 - accuracy: 0.9810\n",
      "Epoch 4/30\n",
      "1594/1594 [==============================] - 11s 7ms/step - loss: 0.0418 - accuracy: 0.9869\n",
      "Epoch 5/30\n",
      "1594/1594 [==============================] - 11s 7ms/step - loss: 0.0299 - accuracy: 0.9907\n",
      "Epoch 6/30\n",
      "1418/1594 [=========================>....] - ETA: 1s - loss: 0.0222 - accuracy: 0.9929"
     ]
    }
   ],
   "source": [
    "model4 = keras.Sequential([\n",
    "    keras.layers.Dense(400, input_shape=(784,), activation='relu'),\n",
    "    keras.layers.Dense(10, activation='sigmoid') #softmax coz multiclass -> input-> 1d array\n",
    "])\n",
    "\n",
    "\n",
    "model4.compile(optimizer='adam',loss='sparse_categorical_crossentropy',metrics=['accuracy'])\n",
    "\n",
    "\n",
    "model4.fit(X1_train,y1_train,epochs=30)"
   ]
  },
  {
   "cell_type": "code",
   "execution_count": null,
   "id": "4efd1d79",
   "metadata": {},
   "outputs": [],
   "source": [
    "score=model4.evaluate(X1_test,y1_test)"
   ]
  },
  {
   "cell_type": "code",
   "execution_count": null,
   "id": "95536e73",
   "metadata": {},
   "outputs": [],
   "source": [
    "#considering model3"
   ]
  },
  {
   "cell_type": "code",
   "execution_count": 106,
   "id": "5e67b180",
   "metadata": {},
   "outputs": [
    {
     "name": "stdout",
     "output_type": "stream",
     "text": [
      "282/282 [==============================] - 1s 2ms/step\n"
     ]
    }
   ],
   "source": [
    "y_predict=model3.predict(X1_test)"
   ]
  },
  {
   "cell_type": "code",
   "execution_count": 37,
   "id": "d1ddc68b",
   "metadata": {},
   "outputs": [
    {
     "data": {
      "text/plain": [
       "array([1.1810006e-09, 3.6519265e-05, 2.7273802e-04, 1.0000000e+00,\n",
       "       4.5042152e-09, 9.9785918e-01, 1.3091158e-15, 2.3044633e-02,\n",
       "       8.0219203e-01, 9.9964070e-01], dtype=float32)"
      ]
     },
     "execution_count": 37,
     "metadata": {},
     "output_type": "execute_result"
    }
   ],
   "source": [
    "y_predict[1]"
   ]
  },
  {
   "cell_type": "code",
   "execution_count": 38,
   "id": "291fd931",
   "metadata": {},
   "outputs": [
    {
     "data": {
      "text/plain": [
       "3"
      ]
     },
     "execution_count": 38,
     "metadata": {},
     "output_type": "execute_result"
    }
   ],
   "source": [
    "np.argmax(y_predict[1])"
   ]
  },
  {
   "cell_type": "code",
   "execution_count": 39,
   "id": "f5021b90",
   "metadata": {},
   "outputs": [
    {
     "data": {
      "text/plain": [
       "3"
      ]
     },
     "execution_count": 39,
     "metadata": {},
     "output_type": "execute_result"
    }
   ],
   "source": [
    "y1_test.iloc[1]"
   ]
  },
  {
   "cell_type": "code",
   "execution_count": 40,
   "id": "9e5dc43a",
   "metadata": {},
   "outputs": [
    {
     "data": {
      "text/plain": [
       "[7, 3, 8, 9, 3, 9, 7, 7, 5, 4]"
      ]
     },
     "execution_count": 40,
     "metadata": {},
     "output_type": "execute_result"
    }
   ],
   "source": [
    "arr=[np.argmax(i) for i in y_predict]\n",
    "arr[:10]"
   ]
  },
  {
   "cell_type": "code",
   "execution_count": 41,
   "id": "87a52430",
   "metadata": {},
   "outputs": [
    {
     "data": {
      "text/plain": [
       "12628    7\n",
       "37730    3\n",
       "39991    8\n",
       "8525     9\n",
       "8279     3\n",
       "51012    9\n",
       "14871    7\n",
       "15127    7\n",
       "9366     5\n",
       "33322    4\n",
       "Name: label, dtype: int64"
      ]
     },
     "execution_count": 41,
     "metadata": {},
     "output_type": "execute_result"
    }
   ],
   "source": [
    "y1_test[:10]"
   ]
  },
  {
   "cell_type": "code",
   "execution_count": 42,
   "id": "244a96cd",
   "metadata": {},
   "outputs": [
    {
     "data": {
      "text/plain": [
       "51000"
      ]
     },
     "execution_count": 42,
     "metadata": {},
     "output_type": "execute_result"
    }
   ],
   "source": [
    "X1_train.shape[0]"
   ]
  },
  {
   "cell_type": "code",
   "execution_count": 26,
   "id": "57b867a2",
   "metadata": {},
   "outputs": [
    {
     "name": "stdout",
     "output_type": "stream",
     "text": [
      "Epoch 1/5\n",
      "1594/1594 [==============================] - 21s 13ms/step - loss: 0.1588 - accuracy: 0.9534\n",
      "Epoch 2/5\n",
      "1594/1594 [==============================] - 19s 12ms/step - loss: 0.0552 - accuracy: 0.9834\n",
      "Epoch 3/5\n",
      "1594/1594 [==============================] - 20s 12ms/step - loss: 0.0351 - accuracy: 0.9891\n",
      "Epoch 4/5\n",
      "1594/1594 [==============================] - 20s 13ms/step - loss: 0.0232 - accuracy: 0.9926\n",
      "Epoch 5/5\n",
      "1594/1594 [==============================] - 20s 13ms/step - loss: 0.0165 - accuracy: 0.9946\n"
     ]
    },
    {
     "data": {
      "text/plain": [
       "<keras.callbacks.History at 0x29961e2cdc0>"
      ]
     },
     "execution_count": 26,
     "metadata": {},
     "output_type": "execute_result"
    }
   ],
   "source": [
    "xCon_train = X1_train.values.reshape(X1_train.shape[0], 28, 28, 1)\n",
    "xCon_test = X1_test.values.reshape(X1_test.shape[0], 28, 28, 1)\n",
    "\n",
    "# Define the model architecture\n",
    "model5 = tf.keras.models.Sequential([\n",
    "  tf.keras.layers.Conv2D(32, (3,3), activation='relu', input_shape=(28, 28, 1)),\n",
    "  tf.keras.layers.MaxPooling2D((2,2)),\n",
    "  tf.keras.layers.Flatten(),\n",
    "  tf.keras.layers.Dense(128, activation='relu'),\n",
    "  tf.keras.layers.Dense(10, activation='softmax')\n",
    "])\n",
    "\n",
    "# Compile the model\n",
    "model5.compile(optimizer='adam',\n",
    "              loss='sparse_categorical_crossentropy',\n",
    "              metrics=['accuracy'])\n",
    "\n",
    "# Train the model\n",
    "model5.fit(xCon_train, y1_train, epochs=5)"
   ]
  },
  {
   "cell_type": "code",
   "execution_count": 44,
   "id": "a4662ded",
   "metadata": {},
   "outputs": [
    {
     "name": "stdout",
     "output_type": "stream",
     "text": [
      "282/282 [==============================] - 3s 9ms/step - loss: 0.0473 - accuracy: 0.9869\n"
     ]
    }
   ],
   "source": [
    "xCon_test= X1_test.values.reshape(X1_test.shape[0], 28, 28, 1)\n",
    "score=model5.evaluate(xCon_test,y1_test)\n"
   ]
  },
  {
   "cell_type": "code",
   "execution_count": 82,
   "id": "8411d6d8",
   "metadata": {
    "scrolled": false
   },
   "outputs": [],
   "source": [
    "x=pd.read_csv('D:/mnist/pixel_data.csv',index_col=False)\n",
    "x=x.T"
   ]
  },
  {
   "cell_type": "code",
   "execution_count": 101,
   "id": "7db71e8f",
   "metadata": {},
   "outputs": [
    {
     "data": {
      "text/html": [
       "<div>\n",
       "<style scoped>\n",
       "    .dataframe tbody tr th:only-of-type {\n",
       "        vertical-align: middle;\n",
       "    }\n",
       "\n",
       "    .dataframe tbody tr th {\n",
       "        vertical-align: top;\n",
       "    }\n",
       "\n",
       "    .dataframe thead th {\n",
       "        text-align: right;\n",
       "    }\n",
       "</style>\n",
       "<table border=\"1\" class=\"dataframe\">\n",
       "  <thead>\n",
       "    <tr style=\"text-align: right;\">\n",
       "      <th></th>\n",
       "      <th>0</th>\n",
       "      <th>1</th>\n",
       "      <th>2</th>\n",
       "      <th>3</th>\n",
       "      <th>4</th>\n",
       "      <th>5</th>\n",
       "      <th>6</th>\n",
       "      <th>7</th>\n",
       "      <th>8</th>\n",
       "      <th>9</th>\n",
       "      <th>...</th>\n",
       "      <th>774</th>\n",
       "      <th>775</th>\n",
       "      <th>776</th>\n",
       "      <th>777</th>\n",
       "      <th>778</th>\n",
       "      <th>779</th>\n",
       "      <th>780</th>\n",
       "      <th>781</th>\n",
       "      <th>782</th>\n",
       "      <th>783</th>\n",
       "    </tr>\n",
       "  </thead>\n",
       "  <tbody>\n",
       "    <tr>\n",
       "      <th>l</th>\n",
       "      <td>255</td>\n",
       "      <td>255</td>\n",
       "      <td>255</td>\n",
       "      <td>230</td>\n",
       "      <td>230</td>\n",
       "      <td>255</td>\n",
       "      <td>255</td>\n",
       "      <td>230</td>\n",
       "      <td>230</td>\n",
       "      <td>230</td>\n",
       "      <td>...</td>\n",
       "      <td>255</td>\n",
       "      <td>255</td>\n",
       "      <td>230</td>\n",
       "      <td>230</td>\n",
       "      <td>255</td>\n",
       "      <td>255</td>\n",
       "      <td>255</td>\n",
       "      <td>230</td>\n",
       "      <td>230</td>\n",
       "      <td>255</td>\n",
       "    </tr>\n",
       "  </tbody>\n",
       "</table>\n",
       "<p>1 rows × 784 columns</p>\n",
       "</div>"
      ],
      "text/plain": [
       "   0    1    2    3    4    5    6    7    8    9    ...  774  775  776  777  \\\n",
       "l  255  255  255  230  230  255  255  230  230  230  ...  255  255  230  230   \n",
       "\n",
       "   778  779  780  781  782  783  \n",
       "l  255  255  255  230  230  255  \n",
       "\n",
       "[1 rows x 784 columns]"
      ]
     },
     "execution_count": 101,
     "metadata": {},
     "output_type": "execute_result"
    }
   ],
   "source": [
    "x"
   ]
  },
  {
   "cell_type": "code",
   "execution_count": 85,
   "id": "6056597a",
   "metadata": {},
   "outputs": [
    {
     "data": {
      "text/plain": [
       "array([[[255, 255, 255, 230, 230, 255, 255, 230, 230, 230, 255, 255,\n",
       "         230, 230, 230, 255, 255, 255, 230, 230, 255, 255, 230, 230,\n",
       "         230, 255, 255, 230],\n",
       "        [255, 255, 255, 230, 230, 255, 255, 230, 230, 230, 255, 255,\n",
       "         230, 230, 230, 255, 255, 255, 230, 230, 255, 255, 230, 230,\n",
       "         230, 255, 255, 230],\n",
       "        [255, 255, 255, 230, 230, 255, 255, 230, 230, 230, 255, 255,\n",
       "         230, 230, 230, 255, 255, 255, 230, 230, 255, 255, 230, 230,\n",
       "         230, 255, 255, 230],\n",
       "        [255, 255, 255, 230, 230, 255, 255, 230, 230, 230, 255, 255,\n",
       "         230, 230, 230, 255, 255, 255, 230, 230, 255, 255, 230, 230,\n",
       "         230, 255, 255, 230],\n",
       "        [255, 255, 255, 230, 230, 255, 255, 230, 230, 230, 255, 255,\n",
       "         230, 230, 230, 255, 255, 255, 230, 230, 255, 255, 230, 230,\n",
       "         230, 255, 255, 230],\n",
       "        [255, 255, 255, 230, 230, 255, 255, 230, 230, 230, 255, 255,\n",
       "         230, 230, 230, 255, 255, 255, 230, 230, 255, 255, 230, 230,\n",
       "         230, 255, 255, 230],\n",
       "        [255, 255, 255, 230, 167,  18, 182, 214, 214, 223, 223, 230,\n",
       "         230, 230,  82, 255, 255, 255, 230, 230, 255, 255, 214, 230,\n",
       "         230, 255, 255, 230],\n",
       "        [230, 230, 230, 214, 152, 137, 137, 137, 152, 182, 152, 119,\n",
       "         101,  82,  82, 137, 230, 230, 255, 255, 223, 137,  82,  18,\n",
       "           6, 230, 230, 255],\n",
       "        [230, 230, 230, 214, 247, 205,  18, 255,   6,   6,  39,   6,\n",
       "         101, 137, 137, 223, 230, 230, 255, 255, 239, 205, 182, 119,\n",
       "          82, 230, 230, 255],\n",
       "        [230, 230, 230, 214, 214,  18, 255, 101, 119, 214, 239, 255,\n",
       "         230,  82, 152,   6, 230, 230, 255,   6, 255, 214,  61,  18,\n",
       "         137, 230, 230, 255],\n",
       "        [230, 230, 230, 239, 223,  18, 119,  39,  18, 182,  18,  18,\n",
       "         255,   6, 182,  82, 230, 230, 255, 255, 255, 255, 223,  18,\n",
       "         167, 214, 230, 255],\n",
       "        [230, 230, 239, 195, 230,  18, 152, 182, 230, 119, 101, 101,\n",
       "         214, 119, 205, 195, 230, 230, 255, 255,  82, 255, 247,   6,\n",
       "         182, 223, 230, 255],\n",
       "        [230, 230, 230, 214, 239,   6, 119,  18, 255, 255, 230,  18,\n",
       "         239,  18, 205,  82, 230, 230, 255, 255, 230,  18, 239, 247,\n",
       "         167, 101, 230, 255],\n",
       "        [230, 230, 230, 182, 247,  18, 119, 205, 255, 255, 230, 101,\n",
       "         247,   6, 214, 167, 230, 230, 255, 255, 230,  18, 214, 255,\n",
       "          18, 119, 230, 255],\n",
       "        [255, 255, 255,  82, 255,  18, 152, 223, 230, 230, 255,  39,\n",
       "         247,   6, 223,  82, 255, 255, 230, 230, 255,  18, 214, 255,\n",
       "          18, 167, 255, 230],\n",
       "        [255, 255, 255,  61, 247,  18, 152,  39, 230, 230, 255,  39,\n",
       "         247, 247, 223,   6,  39, 255, 230, 230, 255,  18, 223, 137,\n",
       "           6, 137, 255, 230],\n",
       "        [255, 255, 255,   6, 255,  18, 167,   6, 230, 230, 255,  61,\n",
       "         223, 239,   6, 167, 167, 255, 230, 230, 205,  61, 247, 247,\n",
       "         223, 223, 255, 230],\n",
       "        [255, 255, 255, 195, 255,   6, 167, 137, 230, 230, 255, 223,\n",
       "         214, 255,   6,  18,  82, 182, 239, 119, 137, 167, 101,   6,\n",
       "         152, 205, 255, 230],\n",
       "        [255, 255, 182, 195, 247,  18, 195, 195, 230, 230, 255, 255,\n",
       "         230, 223, 119,   6, 137, 152, 167, 167, 167,  82,   6, 223,\n",
       "         214, 255, 255, 230],\n",
       "        [255, 255, 205, 239, 247,  82, 167, 195, 230, 230, 255, 255,\n",
       "         255, 182, 167, 247,  18,  18, 255, 255,   6,   6, 167, 152,\n",
       "         214, 255, 255, 230],\n",
       "        [255, 255, 195,   6, 247, 195,  18, 230, 230, 230, 255, 255,\n",
       "         230, 239,  18,  18, 195, 167, 214, 167, 182,  18,  18,  82,\n",
       "         255, 255, 255, 230],\n",
       "        [230, 230, 230, 214,  18,  18, 239, 255, 255, 255, 230, 230,\n",
       "         255, 255, 255, 239,  18,  18,  18,  18,  18, 239, 247, 255,\n",
       "         255, 230, 230, 255],\n",
       "        [230, 230, 230, 255, 255, 230, 230, 255, 255, 255, 230, 230,\n",
       "         255, 255, 255, 230, 230, 223, 223, 255, 230, 230, 255, 255,\n",
       "         255, 230, 230, 255],\n",
       "        [230, 230, 230, 255, 255, 230, 230, 255, 255, 255, 230, 230,\n",
       "         255, 255, 255, 230, 230, 230, 255, 255, 230, 230, 255, 255,\n",
       "         255, 230, 230, 255],\n",
       "        [230, 230, 230, 255, 255, 230, 230, 255, 255, 255, 230, 230,\n",
       "         255, 255, 255, 230, 230, 230, 255, 255, 230, 230, 255, 255,\n",
       "         255, 230, 230, 255],\n",
       "        [230, 230, 230, 255, 255, 230, 230, 255, 255, 255, 230, 230,\n",
       "         255, 255, 255, 230, 230, 230, 255, 255, 230, 230, 255, 255,\n",
       "         255, 230, 230, 255],\n",
       "        [230, 230, 230, 255, 255, 230, 230, 255, 255, 255, 230, 230,\n",
       "         255, 255, 255, 230, 230, 230, 255, 255, 230, 230, 255, 255,\n",
       "         255, 230, 230, 255],\n",
       "        [230, 230, 230, 255, 255, 230, 230, 255, 255, 255, 230, 230,\n",
       "         255, 255, 255, 230, 230, 230, 255, 255, 230, 230, 255, 255,\n",
       "         255, 230, 230, 255]]], dtype=int64)"
      ]
     },
     "execution_count": 85,
     "metadata": {},
     "output_type": "execute_result"
    }
   ],
   "source": [
    "X_2d = x.values.reshape(-1, 28, 28)\n",
    "plot(X_2d)"
   ]
  },
  {
   "cell_type": "code",
   "execution_count": 102,
   "id": "4fd0f1b8",
   "metadata": {},
   "outputs": [],
   "source": [
    "x=x/255"
   ]
  },
  {
   "cell_type": "code",
   "execution_count": 103,
   "id": "b45a09c3",
   "metadata": {},
   "outputs": [
    {
     "data": {
      "text/html": [
       "<div>\n",
       "<style scoped>\n",
       "    .dataframe tbody tr th:only-of-type {\n",
       "        vertical-align: middle;\n",
       "    }\n",
       "\n",
       "    .dataframe tbody tr th {\n",
       "        vertical-align: top;\n",
       "    }\n",
       "\n",
       "    .dataframe thead th {\n",
       "        text-align: right;\n",
       "    }\n",
       "</style>\n",
       "<table border=\"1\" class=\"dataframe\">\n",
       "  <thead>\n",
       "    <tr style=\"text-align: right;\">\n",
       "      <th></th>\n",
       "      <th>0</th>\n",
       "      <th>1</th>\n",
       "      <th>2</th>\n",
       "      <th>3</th>\n",
       "      <th>4</th>\n",
       "      <th>5</th>\n",
       "      <th>6</th>\n",
       "      <th>7</th>\n",
       "      <th>8</th>\n",
       "      <th>9</th>\n",
       "      <th>...</th>\n",
       "      <th>774</th>\n",
       "      <th>775</th>\n",
       "      <th>776</th>\n",
       "      <th>777</th>\n",
       "      <th>778</th>\n",
       "      <th>779</th>\n",
       "      <th>780</th>\n",
       "      <th>781</th>\n",
       "      <th>782</th>\n",
       "      <th>783</th>\n",
       "    </tr>\n",
       "  </thead>\n",
       "  <tbody>\n",
       "    <tr>\n",
       "      <th>l</th>\n",
       "      <td>1.0</td>\n",
       "      <td>1.0</td>\n",
       "      <td>1.0</td>\n",
       "      <td>0.901961</td>\n",
       "      <td>0.901961</td>\n",
       "      <td>1.0</td>\n",
       "      <td>1.0</td>\n",
       "      <td>0.901961</td>\n",
       "      <td>0.901961</td>\n",
       "      <td>0.901961</td>\n",
       "      <td>...</td>\n",
       "      <td>1.0</td>\n",
       "      <td>1.0</td>\n",
       "      <td>0.901961</td>\n",
       "      <td>0.901961</td>\n",
       "      <td>1.0</td>\n",
       "      <td>1.0</td>\n",
       "      <td>1.0</td>\n",
       "      <td>0.901961</td>\n",
       "      <td>0.901961</td>\n",
       "      <td>1.0</td>\n",
       "    </tr>\n",
       "  </tbody>\n",
       "</table>\n",
       "<p>1 rows × 784 columns</p>\n",
       "</div>"
      ],
      "text/plain": [
       "   0    1    2         3         4    5    6         7         8         9    \\\n",
       "l  1.0  1.0  1.0  0.901961  0.901961  1.0  1.0  0.901961  0.901961  0.901961   \n",
       "\n",
       "   ...  774  775       776       777  778  779  780       781       782  783  \n",
       "l  ...  1.0  1.0  0.901961  0.901961  1.0  1.0  1.0  0.901961  0.901961  1.0  \n",
       "\n",
       "[1 rows x 784 columns]"
      ]
     },
     "execution_count": 103,
     "metadata": {},
     "output_type": "execute_result"
    }
   ],
   "source": [
    "x"
   ]
  },
  {
   "cell_type": "code",
   "execution_count": 104,
   "id": "a4d40b8f",
   "metadata": {},
   "outputs": [
    {
     "name": "stdout",
     "output_type": "stream",
     "text": [
      "1/1 [==============================] - 0s 96ms/step\n"
     ]
    }
   ],
   "source": [
    "y_predict=model2.predict(x)"
   ]
  },
  {
   "cell_type": "code",
   "execution_count": 105,
   "id": "9ce642de",
   "metadata": {},
   "outputs": [
    {
     "data": {
      "text/plain": [
       "array([[5.0403189e-02, 7.8684634e-06, 3.1286425e-05, 8.7472363e-06,\n",
       "        2.8604134e-07, 9.4746888e-01, 1.5473944e-06, 2.0778184e-03,\n",
       "        7.5328039e-08, 2.9836949e-07]], dtype=float32)"
      ]
     },
     "execution_count": 105,
     "metadata": {},
     "output_type": "execute_result"
    }
   ],
   "source": [
    "y_predict"
   ]
  },
  {
   "cell_type": "code",
   "execution_count": 107,
   "id": "0f1c604c",
   "metadata": {},
   "outputs": [
    {
     "data": {
      "text/plain": [
       "5"
      ]
     },
     "execution_count": 107,
     "metadata": {},
     "output_type": "execute_result"
    }
   ],
   "source": [
    "y=np.argmax(y_predict)\n",
    "y"
   ]
  },
  {
   "cell_type": "code",
   "execution_count": 111,
   "id": "64aa5e07",
   "metadata": {},
   "outputs": [],
   "source": [
    "digit=pd.DataFrame({'digit': y},index=[0])\n",
    "digit.columns=['digit']"
   ]
  },
  {
   "cell_type": "code",
   "execution_count": null,
   "id": "8d118c81",
   "metadata": {},
   "outputs": [],
   "source": []
  },
  {
   "cell_type": "code",
   "execution_count": 117,
   "id": "95dd570e",
   "metadata": {},
   "outputs": [],
   "source": [
    "digit.to_csv(\"digit.csv\", index=False)"
   ]
  },
  {
   "cell_type": "code",
   "execution_count": 118,
   "id": "1446b0eb",
   "metadata": {},
   "outputs": [
    {
     "data": {
      "text/html": [
       "<div>\n",
       "<style scoped>\n",
       "    .dataframe tbody tr th:only-of-type {\n",
       "        vertical-align: middle;\n",
       "    }\n",
       "\n",
       "    .dataframe tbody tr th {\n",
       "        vertical-align: top;\n",
       "    }\n",
       "\n",
       "    .dataframe thead th {\n",
       "        text-align: right;\n",
       "    }\n",
       "</style>\n",
       "<table border=\"1\" class=\"dataframe\">\n",
       "  <thead>\n",
       "    <tr style=\"text-align: right;\">\n",
       "      <th></th>\n",
       "      <th>digit</th>\n",
       "    </tr>\n",
       "  </thead>\n",
       "  <tbody>\n",
       "    <tr>\n",
       "      <th>0</th>\n",
       "      <td>5</td>\n",
       "    </tr>\n",
       "  </tbody>\n",
       "</table>\n",
       "</div>"
      ],
      "text/plain": [
       "   digit\n",
       "0      5"
      ]
     },
     "execution_count": 118,
     "metadata": {},
     "output_type": "execute_result"
    }
   ],
   "source": [
    "pd.read_csv(\"digit.csv\")\n",
    "digit"
   ]
  },
  {
   "cell_type": "code",
   "execution_count": 119,
   "id": "5ab9b167",
   "metadata": {},
   "outputs": [
    {
     "data": {
      "text/html": [
       "<div>\n",
       "<style scoped>\n",
       "    .dataframe tbody tr th:only-of-type {\n",
       "        vertical-align: middle;\n",
       "    }\n",
       "\n",
       "    .dataframe tbody tr th {\n",
       "        vertical-align: top;\n",
       "    }\n",
       "\n",
       "    .dataframe thead th {\n",
       "        text-align: right;\n",
       "    }\n",
       "</style>\n",
       "<table border=\"1\" class=\"dataframe\">\n",
       "  <thead>\n",
       "    <tr style=\"text-align: right;\">\n",
       "      <th></th>\n",
       "      <th>digit</th>\n",
       "    </tr>\n",
       "  </thead>\n",
       "  <tbody>\n",
       "    <tr>\n",
       "      <th>0</th>\n",
       "      <td>5</td>\n",
       "    </tr>\n",
       "  </tbody>\n",
       "</table>\n",
       "</div>"
      ],
      "text/plain": [
       "   digit\n",
       "0      5"
      ]
     },
     "execution_count": 119,
     "metadata": {},
     "output_type": "execute_result"
    }
   ],
   "source": [
    "digit"
   ]
  },
  {
   "cell_type": "code",
   "execution_count": 44,
   "id": "77c50dac",
   "metadata": {},
   "outputs": [
    {
     "data": {
      "text/plain": [
       "Int64Index([1, 7, 3, 2, 9, 0, 6, 8, 4, 5], dtype='int64')"
      ]
     },
     "execution_count": 44,
     "metadata": {},
     "output_type": "execute_result"
    }
   ],
   "source": [
    "t=train_Y.value_counts().index\n",
    "t"
   ]
  },
  {
   "cell_type": "code",
   "execution_count": null,
   "id": "bedf49e0",
   "metadata": {},
   "outputs": [],
   "source": []
  }
 ],
 "metadata": {
  "kernelspec": {
   "display_name": "Python 3 (ipykernel)",
   "language": "python",
   "name": "python3"
  },
  "language_info": {
   "codemirror_mode": {
    "name": "ipython",
    "version": 3
   },
   "file_extension": ".py",
   "mimetype": "text/x-python",
   "name": "python",
   "nbconvert_exporter": "python",
   "pygments_lexer": "ipython3",
   "version": "3.9.13"
  }
 },
 "nbformat": 4,
 "nbformat_minor": 5
}
